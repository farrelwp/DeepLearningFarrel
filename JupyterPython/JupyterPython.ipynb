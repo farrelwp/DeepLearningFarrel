{
 "cells": [
  {
   "attachments": {},
   "cell_type": "markdown",
   "metadata": {},
   "source": [
    "# Apa itu Python?\n",
    "\n",
    "-Python merupakan bahasa pemrograman tingkat tinggi yang diracik oleh Guido van Rossum.\n",
    "-Python banyak digunakan untuk membuat berbagai macam program, seperti: program CLI, Program GUI (desktop), Aplikasi Mobile, Web, IoT, Game, Program untuk Hacking, dsb.\n",
    "-Python juga dikenal dengan bahasa pemrograman yang mudah dipelajari, karena struktur sintaknya rapi dan mudah dipahami.\n"
   ]
  },
  {
   "attachments": {},
   "cell_type": "markdown",
   "metadata": {},
   "source": [
    "# Kenapa Python?\n",
    "\n",
    "-Python memang sangat sederhana dibandingkan bahasa yang lainnya. \n",
    "\n",
    "-Bahkan tagline di websitenya menjelaskan, kalau python akan membuatmu bekerja lebih cepat dan efektif!\n"
   ]
  },
  {
   "attachments": {},
   "cell_type": "markdown",
   "metadata": {},
   "source": [
    "# Instalasi Python\n",
    "\n",
    "-Instalasi python di Windows sangat mudah. Langkah-langkanya sama seperti menginstal software Windows pada umumnya, next-next-finish.\n",
    "-Tapi ada konfigurasi yang harus wajib dipilih pada proses instalasi, agar perintah Python dapat dikenali di CMD.\n"
   ]
  },
  {
   "attachments": {},
   "cell_type": "markdown",
   "metadata": {},
   "source": [
    "# Aturan Penulisan Sintaks Python yang Harus dipatuhi\n",
    "## 1. Penulisan Statement Python\n",
    "Statement adalah sebuah intruksi atau kalimat perintah yang akan dieksekusi oleh komputer.\n"
   ]
  },
  {
   "cell_type": "code",
   "execution_count": 68,
   "metadata": {},
   "outputs": [
    {
     "name": "stdout",
     "output_type": "stream",
     "text": [
      "Hello World!!!\n",
      "Farrel Wiraputra\n"
     ]
    }
   ],
   "source": [
    "print(\"Hello World!!!\")\n",
    "nama = \"Farrel Wiraputra\"\n",
    "print(nama)"
   ]
  },
  {
   "cell_type": "markdown",
   "metadata": {},
   "source": [
    "Penulisan satu statement tidak diakhiri dengan tanda titik-koma.Sedangkan, bila kita ingin menulis lebih dari satu statement dalam satu baris, maka kita harus memisahnya dengan titik-koma.\n"
   ]
  },
  {
   "cell_type": "code",
   "execution_count": 69,
   "metadata": {},
   "outputs": [
    {
     "name": "stdout",
     "output_type": "stream",
     "text": [
      "hello\n",
      "world\n"
     ]
    }
   ],
   "source": [
    "print(\"hello\"); print(\"world\")\n",
    "#tidak dianjurkan menulis lebih dari satu \n",
    "#statement dalam satu baris. Karena akan sulit dibaca"
   ]
  },
  {
   "attachments": {},
   "cell_type": "markdown",
   "metadata": {},
   "source": [
    "## 2. Penulisan String pada Python\n",
    "-String adalah teks atau kumpulan dari karakter.\n",
    "-String dalam pemrograman biasanya ditulis dengan dibungkus menggunakan tanda petik.\n",
    "-Bisa menggunakan tanda petik tunggal maupun ganda.\n"
   ]
  },
  {
   "cell_type": "code",
   "execution_count": 70,
   "metadata": {
    "scrolled": false
   },
   "outputs": [
    {
     "name": "stdout",
     "output_type": "stream",
     "text": [
      "<class 'str'>\n"
     ]
    }
   ],
   "source": [
    "judul = \"belajar pemgrograman python\"\n",
    "print(type(judul))"
   ]
  },
  {
   "cell_type": "markdown",
   "metadata": {},
   "source": [
    "## 3. Penulisan Case pada Python\n",
    "Sintak Python bersifat case sensitive, artinya ‘farrel’ dengan ‘Farrel’ itu berbeda.\n"
   ]
  },
  {
   "cell_type": "code",
   "execution_count": 71,
   "metadata": {},
   "outputs": [
    {
     "name": "stdout",
     "output_type": "stream",
     "text": [
      "farrel\n",
      "FARREL\n"
     ]
    }
   ],
   "source": [
    "nama = \"farrel\"\n",
    "NAMA = \"FARREL\"\n",
    "print (nama);\n",
    "print (NAMA);"
   ]
  },
  {
   "cell_type": "markdown",
   "metadata": {},
   "source": [
    "## 4. Penulisan Blok Program Python\n",
    "-Blok program adalah kumpulan dari beberpaa statement yang digabungkan dalam satu blok.\n",
    "-Penulisan blok program harus ditambahkan indentasi (tab atau spasi 2x/4x).\n"
   ]
  },
  {
   "cell_type": "code",
   "execution_count": 72,
   "metadata": {},
   "outputs": [
    {
     "name": "stdout",
     "output_type": "stream",
     "text": [
      "Selamat Datang Admin\n"
     ]
    }
   ],
   "source": [
    "#Contoh Benar\n",
    "if nama == \"farrel\":\n",
    "  print(\"Selamat Datang Admin\")"
   ]
  },
  {
   "cell_type": "code",
   "execution_count": 73,
   "metadata": {},
   "outputs": [
    {
     "ename": "IndentationError",
     "evalue": "expected an indented block (<ipython-input-73-6fb253730251>, line 3)",
     "output_type": "error",
     "traceback": [
      "\u001b[1;36m  File \u001b[1;32m\"<ipython-input-73-6fb253730251>\"\u001b[1;36m, line \u001b[1;32m3\u001b[0m\n\u001b[1;33m    print(\"selamat datang Admin\")\u001b[0m\n\u001b[1;37m        ^\u001b[0m\n\u001b[1;31mIndentationError\u001b[0m\u001b[1;31m:\u001b[0m expected an indented block\n"
     ]
    }
   ],
   "source": [
    "#Contoh Salah\n",
    "if nama == \"farrel\":\n",
    "print(\"selamat datang Admin\")"
   ]
  },
  {
   "cell_type": "markdown",
   "metadata": {},
   "source": [
    "## 5. Cara Penulisan Komentar\n",
    "-Komentar merupakan baris kode yang tidak akan dieksekusi.\n",
    "-Komentar digunakan untuk memberikan informasi tambahan dan untuk menonaktifkan kode.\n",
    "Menggunakan Tanda Pagar (#)\n"
   ]
  },
  {
   "cell_type": "code",
   "execution_count": null,
   "metadata": {},
   "outputs": [],
   "source": [
    "#Ini adalah Komentar"
   ]
  },
  {
   "attachments": {},
   "cell_type": "markdown",
   "metadata": {},
   "source": [
    "# Mengenal Variabel dan Tipe Data dalam Python\n",
    "## Aturan Penulisan Variabel\n",
    "1.Nama variabel boleh diawali menggunakan huruf atau garis bawah (_), contoh: nama, _nama, namaKu, nama_variabel.\n",
    "\n",
    "2.Karakter selanjutnya dapat berupa huruf, garis bawah (_) atau angka, contoh: __nama, n2, nilai1.\n",
    "\n",
    "3.Karakter pada nama variabel bersifat sensitif (case-sensitif). Artinya huruf besar dan kecil dibedakan. Misalnya, variabel_Ku dan variabel_ku, keduanya adalah variabel yang berbeda.\n",
    "\n",
    "4.Nama variabel tidak boleh menggunakan kata kunci yang sudah ada dalam python seperti if, while, for, dsb.\n"
   ]
  },
  {
   "cell_type": "markdown",
   "metadata": {},
   "source": [
    "Variabel di python dapat dibuat dengan format seperti ini:\n"
   ]
  },
  {
   "cell_type": "code",
   "execution_count": null,
   "metadata": {},
   "outputs": [],
   "source": [
    "variabel1= \"isi\"\n",
    "variabel2= 5\n",
    "#Lalu untuk melihat isi variable, kita dapat menggunakan fungsi print\n",
    "print (variabel1)\n",
    "print (variabel2)"
   ]
  },
  {
   "cell_type": "code",
   "execution_count": null,
   "metadata": {},
   "outputs": [],
   "source": [
    "#Lalu cara untuk menghapus variable menggunakan fungsi del()\n",
    "del (variabel1)\n",
    "print (variabel1)"
   ]
  },
  {
   "cell_type": "markdown",
   "metadata": {},
   "source": [
    "## Tipe data\n",
    "-Cara mengisi nilai variabel ditentukan dengan jenis datanya, misalkan untuk tipe data teks (string) maka harus diapit dengan tanda petik (\"...\"). Sedangkan untuk angka (integer) dan boolean tidak perlu diapit dengan tanda petik.\n",
    "\n",
    "-Python akan seara otomatis mengenali jenis data atau tipe data yang tersimpan dalam sebuah variabel.\n",
    "\n",
    "-Untuk memeriksa tipe data pada suatu variabel, kita bisa menggunakan fungsi type().\n"
   ]
  },
  {
   "cell_type": "markdown",
   "metadata": {},
   "source": [
    "### Jenis-jenis Tipe Data\n",
    "-Secara umum, tipe data primitif dalam python dibagi menjadi tiga jenis:\n",
    "    \n",
    "1.Tipe data angka\n",
    "Tipe data angka dibagi menjadi beberapa jenis lagi:\n",
    "\n",
    "    1.int (Integer): bilangan bulat, contoh 32, 22, 12, 10, dsb.\n",
    "    2.float: bilangan pecahan, contoh 1.3, 4.2, 22.3, dsb.\n",
    "\n",
    "2.Tipe data teks\n",
    "Tipe data teks dibagi menjadi dua jenis lagi:\n",
    "\n",
    "    1.Char: Karakter, contoh 'R'.\n",
    "    2.String: Kumpulan karakter, contoh “Nama Saya Farrel\".\n",
    "\n",
    "3.Tipe data Boolean\n",
    "\n",
    "Tipe data boolean adalah tipe data yang hanya memiliki dua nilai yaitu Truedan False atau 0 dan 1.\n",
    "\n",
    "Penulisan True dan False, huruf pertamnya harus kapital dan tanpa tanda petik.\n"
   ]
  },
  {
   "cell_type": "markdown",
   "metadata": {},
   "source": [
    "# Jenis Operator dalam Python\n",
    "-Apa itu operator?\n",
    "\n",
    "-Operator merupakan simbol-simbol yang digunakan untuk melakukan operasi tertentu.\n",
    "\n",
    "-Ada beberapa jenis operator dalam pemrograman yang wajib diketahui:\n",
    "\n",
    "1.Operator Aritmatika\n",
    "\n",
    "2.Operator Pembanding/Relasi\n",
    "\n",
    "3.Operator Penugasan\n",
    "\n",
    "4.Opeartor Logika\n",
    "\n",
    "5.Operator Bitwise\n",
    "\n"
   ]
  },
  {
   "cell_type": "markdown",
   "metadata": {},
   "source": [
    "## Operator Aritmatika\n",
    "\n",
    "Opeartor aritmatika termasuk dalam operator yang paling sering digunakan dalam pemrograman.\n",
    "\n",
    "1.Penjumlahan +\n",
    "2.Pengurangan -\n",
    "3.Perkalian *\n",
    "4.Pembagian /\n",
    "5.Sisa bagi %\n",
    "6.Pemangkatan **"
   ]
  },
  {
   "cell_type": "code",
   "execution_count": null,
   "metadata": {},
   "outputs": [],
   "source": [
    "a = 5\n",
    "b = 2\n",
    "c = a + b\n",
    "d = a % b\n",
    "e = a ** b\n",
    "print (a)\n",
    "print (b)\n",
    "print (c)"
   ]
  },
  {
   "attachments": {},
   "cell_type": "markdown",
   "metadata": {},
   "source": [
    "## Operator Penugasan\n",
    "\n",
    "Seperti namanya, operator ini digunakan untuk memberikan tugas pada variabel.\n",
    "Misalnya:\n",
    "\n",
    "umur = 18\n",
    "\n",
    "Maka variabel umur telah kita berikan tugas untuk menyimpan angka 18.\n",
    "\n",
    "Selain menyimpan atau pengisian nilai, ada juga menjumlahkan, mengurangi, perkalian, pembagian, dsb.\n",
    "\n",
    "1.Penjumlahan +=\n",
    "2.Pengurangan -=\n",
    "3.Perkalian *=\n",
    "4.Pembagian /=\n",
    "5.Sisa bagi %=\n",
    "6.Pemangkatan **=\n",
    "7.Pengisian ="
   ]
  },
  {
   "cell_type": "code",
   "execution_count": null,
   "metadata": {},
   "outputs": [],
   "source": [
    "a = 5\n",
    "a += 5\n",
    "print (a)\n",
    "b = 5\n",
    "b **=2\n",
    "print (b)"
   ]
  },
  {
   "attachments": {},
   "cell_type": "markdown",
   "metadata": {},
   "source": [
    "## Operator Pembanding\n",
    "Operator ini digunakan untuk membandingkan dua buah nilai. Operator ini juga dikenal dengan operator relasi dan sering digunakan untuk membuat sebuah logika atau kondisi\n",
    "\n",
    "1.Lebih Besar >\n",
    "\n",
    "2.Lebih Kecil <\n",
    "\n",
    "3.Sama Dengan ==\n",
    "\n",
    "4.Tidak Sama Dengan !=\n",
    "\n",
    "5.Lebih Besar sama dengan >=\n",
    "\n",
    "6.Lebih Kecil sama dengan <="
   ]
  },
  {
   "cell_type": "code",
   "execution_count": null,
   "metadata": {},
   "outputs": [],
   "source": [
    "a = 10\n",
    "b = 5\n",
    "c = a > b\n",
    "d = a < b\n",
    "print (c)\n",
    "print (d)"
   ]
  },
  {
   "attachments": {},
   "cell_type": "markdown",
   "metadata": {},
   "source": [
    "## Operator Logika\n",
    "\n",
    "Operator logika digunakan untuk membuat operasi logika, seperti logika AND, OR, dan NOT.\n",
    "\n",
    "1.Logika AND and\n",
    "\n",
    "2.Logika OR  or\n",
    "\n",
    "3.Negasi not"
   ]
  },
  {
   "cell_type": "code",
   "execution_count": null,
   "metadata": {},
   "outputs": [],
   "source": [
    "a = True\n",
    "b = False\n",
    "c = a and b\n",
    "d = a or b\n",
    "e = not a\n",
    "print (c)\n",
    "print (d)\n",
    "print (e)"
   ]
  },
  {
   "attachments": {},
   "cell_type": "markdown",
   "metadata": {},
   "source": [
    "## Operator Bitwise\n",
    "Operator Bitwise adalah operator untuk melakukan operasi berdasarkan bit/biner.\n",
    "\n",
    "1. AND &\n",
    "\n",
    "2. OR |\n",
    "\n",
    "3. XOR ^\n",
    "\n",
    "4. NEGASI ~\n",
    "\n",
    "5. Left Shift <<\n",
    "\n",
    "6. Right Shift >>\n"
   ]
  },
  {
   "cell_type": "code",
   "execution_count": null,
   "metadata": {},
   "outputs": [],
   "source": [
    "a = 60  #60 = 0011 1100\n",
    "b = 13  #13 = 0000 1101\n",
    "print ('a =',a,':',bin(a),'b =',b,':',bin(b))\n",
    "c = a & b\n",
    "print (\"Hasil dari a AND b adalah = \",c,':',bin(c))"
   ]
  }
 ],
 "metadata": {
  "kernelspec": {
   "display_name": "Python 3",
   "language": "python",
   "name": "python3"
  },
  "language_info": {
   "codemirror_mode": {
    "name": "ipython",
    "version": 3
   },
   "file_extension": ".py",
   "mimetype": "text/x-python",
   "name": "python",
   "nbconvert_exporter": "python",
   "pygments_lexer": "ipython3",
   "version": "3.7.2"
  }
 },
 "nbformat": 4,
 "nbformat_minor": 2
}
